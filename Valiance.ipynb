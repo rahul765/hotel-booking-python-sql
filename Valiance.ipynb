{
 "cells": [
  {
   "cell_type": "code",
   "execution_count": 32,
   "metadata": {},
   "outputs": [],
   "source": [
    "import pandas as pd\n",
    "import numpy as np\n",
    "import matplotlib.pyplot as plt\n",
    "from datetime import date\n",
    "import sqlite3"
   ]
  },
  {
   "cell_type": "markdown",
   "metadata": {},
   "source": [
    "### Q1. Import all 4 datasets provided in the previous question."
   ]
  },
  {
   "cell_type": "code",
   "execution_count": 95,
   "metadata": {},
   "outputs": [],
   "source": [
    "Table_a = pd.read_csv(\"TableA.csv\")\n",
    "Table_b = pd.read_csv(\"TableB.csv\")\n",
    "Table_c = pd.read_csv(\"TableC.csv\")\n",
    "Table_d = pd.read_excel(\"TableD.xlsx\")"
   ]
  },
  {
   "cell_type": "markdown",
   "metadata": {},
   "source": [
    "After checking all the columns for null value. We come to know discount column has null value. Hence replacing it with 0\n"
   ]
  },
  {
   "cell_type": "code",
   "execution_count": 96,
   "metadata": {
    "scrolled": true
   },
   "outputs": [
    {
     "data": {
      "text/plain": [
       "True"
      ]
     },
     "execution_count": 96,
     "metadata": {},
     "output_type": "execute_result"
    }
   ],
   "source": [
    "Table_a['discount'].isnull().values.any()"
   ]
  },
  {
   "cell_type": "code",
   "execution_count": 101,
   "metadata": {},
   "outputs": [
    {
     "data": {
      "text/plain": [
       "True"
      ]
     },
     "execution_count": 101,
     "metadata": {},
     "output_type": "execute_result"
    }
   ],
   "source": [
    "Table_b['discount'].isnull().values.any()"
   ]
  },
  {
   "cell_type": "code",
   "execution_count": 102,
   "metadata": {},
   "outputs": [
    {
     "data": {
      "text/plain": [
       "True"
      ]
     },
     "execution_count": 102,
     "metadata": {},
     "output_type": "execute_result"
    }
   ],
   "source": [
    "Table_c['discount'].isnull().values.any()"
   ]
  },
  {
   "cell_type": "code",
   "execution_count": 98,
   "metadata": {},
   "outputs": [
    {
     "data": {
      "text/plain": [
       "False"
      ]
     },
     "execution_count": 98,
     "metadata": {},
     "output_type": "execute_result"
    }
   ],
   "source": [
    "# Resolving null values for table A\n",
    "Table_a[\"discount\"].fillna(0,inplace=True)\n",
    "Table_a['discount'].isnull().values.any()"
   ]
  },
  {
   "cell_type": "code",
   "execution_count": 105,
   "metadata": {},
   "outputs": [
    {
     "data": {
      "text/plain": [
       "False"
      ]
     },
     "execution_count": 105,
     "metadata": {},
     "output_type": "execute_result"
    }
   ],
   "source": [
    "# Resolving null values for table B\n",
    "Table_b[\"discount\"].fillna(0,inplace=True)\n",
    "Table_b['discount'].isnull().values.any()"
   ]
  },
  {
   "cell_type": "code",
   "execution_count": 106,
   "metadata": {},
   "outputs": [
    {
     "data": {
      "text/plain": [
       "False"
      ]
     },
     "execution_count": 106,
     "metadata": {},
     "output_type": "execute_result"
    }
   ],
   "source": [
    "# Resolving null values for table C\n",
    "Table_c[\"discount\"].fillna(0,inplace=True)\n",
    "Table_c['discount'].isnull().values.any()"
   ]
  },
  {
   "cell_type": "code",
   "execution_count": 107,
   "metadata": {},
   "outputs": [
    {
     "data": {
      "text/html": [
       "<div>\n",
       "<style scoped>\n",
       "    .dataframe tbody tr th:only-of-type {\n",
       "        vertical-align: middle;\n",
       "    }\n",
       "\n",
       "    .dataframe tbody tr th {\n",
       "        vertical-align: top;\n",
       "    }\n",
       "\n",
       "    .dataframe thead th {\n",
       "        text-align: right;\n",
       "    }\n",
       "</style>\n",
       "<table border=\"1\" class=\"dataframe\">\n",
       "  <thead>\n",
       "    <tr style=\"text-align: right;\">\n",
       "      <th></th>\n",
       "      <th>booking_id</th>\n",
       "      <th>customer_id</th>\n",
       "      <th>source</th>\n",
       "      <th>status</th>\n",
       "      <th>checkin</th>\n",
       "      <th>checkout</th>\n",
       "      <th>rooms</th>\n",
       "      <th>hotel_id</th>\n",
       "      <th>amount</th>\n",
       "      <th>discount</th>\n",
       "      <th>date</th>\n",
       "    </tr>\n",
       "  </thead>\n",
       "  <tbody>\n",
       "    <tr>\n",
       "      <th>0</th>\n",
       "      <td>1001</td>\n",
       "      <td>32661</td>\n",
       "      <td>4</td>\n",
       "      <td>2</td>\n",
       "      <td>2/19/2017</td>\n",
       "      <td>2/20/2017</td>\n",
       "      <td>1</td>\n",
       "      <td>252</td>\n",
       "      <td>2506</td>\n",
       "      <td>530.0</td>\n",
       "      <td>2/19/2017</td>\n",
       "    </tr>\n",
       "    <tr>\n",
       "      <th>1</th>\n",
       "      <td>1002</td>\n",
       "      <td>77901</td>\n",
       "      <td>1</td>\n",
       "      <td>2</td>\n",
       "      <td>2/17/2017</td>\n",
       "      <td>2/18/2017</td>\n",
       "      <td>1</td>\n",
       "      <td>252</td>\n",
       "      <td>2573</td>\n",
       "      <td>545.0</td>\n",
       "      <td>2/14/2017</td>\n",
       "    </tr>\n",
       "    <tr>\n",
       "      <th>2</th>\n",
       "      <td>1003</td>\n",
       "      <td>36635</td>\n",
       "      <td>4</td>\n",
       "      <td>2</td>\n",
       "      <td>2/16/2017</td>\n",
       "      <td>2/17/2017</td>\n",
       "      <td>1</td>\n",
       "      <td>252</td>\n",
       "      <td>2616</td>\n",
       "      <td>553.0</td>\n",
       "      <td>2/15/2017</td>\n",
       "    </tr>\n",
       "    <tr>\n",
       "      <th>3</th>\n",
       "      <td>1004</td>\n",
       "      <td>36635</td>\n",
       "      <td>4</td>\n",
       "      <td>2</td>\n",
       "      <td>2/14/2017</td>\n",
       "      <td>2/16/2017</td>\n",
       "      <td>1</td>\n",
       "      <td>252</td>\n",
       "      <td>5478</td>\n",
       "      <td>1159.0</td>\n",
       "      <td>02-11-2017</td>\n",
       "    </tr>\n",
       "    <tr>\n",
       "      <th>4</th>\n",
       "      <td>1005</td>\n",
       "      <td>193104</td>\n",
       "      <td>4</td>\n",
       "      <td>2</td>\n",
       "      <td>02-12-2017</td>\n",
       "      <td>2/14/2017</td>\n",
       "      <td>1</td>\n",
       "      <td>252</td>\n",
       "      <td>5502</td>\n",
       "      <td>1164.0</td>\n",
       "      <td>02-12-2017</td>\n",
       "    </tr>\n",
       "  </tbody>\n",
       "</table>\n",
       "</div>"
      ],
      "text/plain": [
       "   booking_id  customer_id  source  status     checkin   checkout  rooms  \\\n",
       "0        1001        32661       4       2   2/19/2017  2/20/2017      1   \n",
       "1        1002        77901       1       2   2/17/2017  2/18/2017      1   \n",
       "2        1003        36635       4       2   2/16/2017  2/17/2017      1   \n",
       "3        1004        36635       4       2   2/14/2017  2/16/2017      1   \n",
       "4        1005       193104       4       2  02-12-2017  2/14/2017      1   \n",
       "\n",
       "   hotel_id  amount  discount        date  \n",
       "0       252    2506     530.0   2/19/2017  \n",
       "1       252    2573     545.0   2/14/2017  \n",
       "2       252    2616     553.0   2/15/2017  \n",
       "3       252    5478    1159.0  02-11-2017  \n",
       "4       252    5502    1164.0  02-12-2017  "
      ]
     },
     "execution_count": 107,
     "metadata": {},
     "output_type": "execute_result"
    }
   ],
   "source": [
    "Table_b.head()"
   ]
  },
  {
   "cell_type": "code",
   "execution_count": 108,
   "metadata": {},
   "outputs": [
    {
     "data": {
      "text/html": [
       "<div>\n",
       "<style scoped>\n",
       "    .dataframe tbody tr th:only-of-type {\n",
       "        vertical-align: middle;\n",
       "    }\n",
       "\n",
       "    .dataframe tbody tr th {\n",
       "        vertical-align: top;\n",
       "    }\n",
       "\n",
       "    .dataframe thead th {\n",
       "        text-align: right;\n",
       "    }\n",
       "</style>\n",
       "<table border=\"1\" class=\"dataframe\">\n",
       "  <thead>\n",
       "    <tr style=\"text-align: right;\">\n",
       "      <th></th>\n",
       "      <th>booking_id</th>\n",
       "      <th>customer_id</th>\n",
       "      <th>source</th>\n",
       "      <th>status</th>\n",
       "      <th>checkin</th>\n",
       "      <th>checkout</th>\n",
       "      <th>rooms</th>\n",
       "      <th>hotel_id</th>\n",
       "      <th>amount</th>\n",
       "      <th>discount</th>\n",
       "      <th>date</th>\n",
       "    </tr>\n",
       "  </thead>\n",
       "  <tbody>\n",
       "    <tr>\n",
       "      <th>0</th>\n",
       "      <td>2001</td>\n",
       "      <td>189314</td>\n",
       "      <td>4</td>\n",
       "      <td>3</td>\n",
       "      <td>04-02-2017</td>\n",
       "      <td>04-03-2017</td>\n",
       "      <td>1</td>\n",
       "      <td>252</td>\n",
       "      <td>3215</td>\n",
       "      <td>680.0</td>\n",
       "      <td>3/26/2017</td>\n",
       "    </tr>\n",
       "    <tr>\n",
       "      <th>1</th>\n",
       "      <td>2002</td>\n",
       "      <td>77901</td>\n",
       "      <td>4</td>\n",
       "      <td>2</td>\n",
       "      <td>04-01-2017</td>\n",
       "      <td>04-02-2017</td>\n",
       "      <td>1</td>\n",
       "      <td>252</td>\n",
       "      <td>2675</td>\n",
       "      <td>567.0</td>\n",
       "      <td>3/31/2017</td>\n",
       "    </tr>\n",
       "    <tr>\n",
       "      <th>2</th>\n",
       "      <td>2003</td>\n",
       "      <td>199763</td>\n",
       "      <td>4</td>\n",
       "      <td>3</td>\n",
       "      <td>3/24/2017</td>\n",
       "      <td>3/25/2017</td>\n",
       "      <td>1</td>\n",
       "      <td>252</td>\n",
       "      <td>2652</td>\n",
       "      <td>561.0</td>\n",
       "      <td>3/24/2017</td>\n",
       "    </tr>\n",
       "    <tr>\n",
       "      <th>3</th>\n",
       "      <td>2004</td>\n",
       "      <td>162631</td>\n",
       "      <td>0</td>\n",
       "      <td>2</td>\n",
       "      <td>3/21/2017</td>\n",
       "      <td>3/22/2017</td>\n",
       "      <td>1</td>\n",
       "      <td>252</td>\n",
       "      <td>3366</td>\n",
       "      <td>740.0</td>\n",
       "      <td>3/20/2017</td>\n",
       "    </tr>\n",
       "    <tr>\n",
       "      <th>4</th>\n",
       "      <td>2005</td>\n",
       "      <td>119697</td>\n",
       "      <td>2</td>\n",
       "      <td>2</td>\n",
       "      <td>3/17/2017</td>\n",
       "      <td>3/18/2017</td>\n",
       "      <td>2</td>\n",
       "      <td>252</td>\n",
       "      <td>6399</td>\n",
       "      <td>1354.0</td>\n",
       "      <td>3/17/2017</td>\n",
       "    </tr>\n",
       "  </tbody>\n",
       "</table>\n",
       "</div>"
      ],
      "text/plain": [
       "   booking_id  customer_id  source  status     checkin    checkout  rooms  \\\n",
       "0        2001       189314       4       3  04-02-2017  04-03-2017      1   \n",
       "1        2002        77901       4       2  04-01-2017  04-02-2017      1   \n",
       "2        2003       199763       4       3   3/24/2017   3/25/2017      1   \n",
       "3        2004       162631       0       2   3/21/2017   3/22/2017      1   \n",
       "4        2005       119697       2       2   3/17/2017   3/18/2017      2   \n",
       "\n",
       "   hotel_id  amount  discount       date  \n",
       "0       252    3215     680.0  3/26/2017  \n",
       "1       252    2675     567.0  3/31/2017  \n",
       "2       252    2652     561.0  3/24/2017  \n",
       "3       252    3366     740.0  3/20/2017  \n",
       "4       252    6399    1354.0  3/17/2017  "
      ]
     },
     "execution_count": 108,
     "metadata": {},
     "output_type": "execute_result"
    }
   ],
   "source": [
    "Table_c.head()"
   ]
  },
  {
   "cell_type": "code",
   "execution_count": 109,
   "metadata": {},
   "outputs": [
    {
     "data": {
      "text/html": [
       "<div>\n",
       "<style scoped>\n",
       "    .dataframe tbody tr th:only-of-type {\n",
       "        vertical-align: middle;\n",
       "    }\n",
       "\n",
       "    .dataframe tbody tr th {\n",
       "        vertical-align: top;\n",
       "    }\n",
       "\n",
       "    .dataframe thead th {\n",
       "        text-align: right;\n",
       "    }\n",
       "</style>\n",
       "<table border=\"1\" class=\"dataframe\">\n",
       "  <thead>\n",
       "    <tr style=\"text-align: right;\">\n",
       "      <th></th>\n",
       "      <th>hotel_id</th>\n",
       "      <th>city</th>\n",
       "    </tr>\n",
       "  </thead>\n",
       "  <tbody>\n",
       "    <tr>\n",
       "      <th>0</th>\n",
       "      <td>3</td>\n",
       "      <td>Gurgaon</td>\n",
       "    </tr>\n",
       "    <tr>\n",
       "      <th>1</th>\n",
       "      <td>13</td>\n",
       "      <td>Gurgaon</td>\n",
       "    </tr>\n",
       "    <tr>\n",
       "      <th>2</th>\n",
       "      <td>16</td>\n",
       "      <td>Gurgaon</td>\n",
       "    </tr>\n",
       "    <tr>\n",
       "      <th>3</th>\n",
       "      <td>21</td>\n",
       "      <td>Gurgaon</td>\n",
       "    </tr>\n",
       "    <tr>\n",
       "      <th>4</th>\n",
       "      <td>25</td>\n",
       "      <td>Delhi</td>\n",
       "    </tr>\n",
       "  </tbody>\n",
       "</table>\n",
       "</div>"
      ],
      "text/plain": [
       "   hotel_id     city\n",
       "0         3  Gurgaon\n",
       "1        13  Gurgaon\n",
       "2        16  Gurgaon\n",
       "3        21  Gurgaon\n",
       "4        25    Delhi"
      ]
     },
     "execution_count": 109,
     "metadata": {},
     "output_type": "execute_result"
    }
   ],
   "source": [
    "Table_d.head()"
   ]
  },
  {
   "cell_type": "markdown",
   "metadata": {},
   "source": [
    "### Q2. Extract unique users for each month and calculate total number of bookings made by each, total amount spent in each month, total room nights stayed (status2) for each user for each month."
   ]
  },
  {
   "cell_type": "code",
   "execution_count": 110,
   "metadata": {},
   "outputs": [
    {
     "data": {
      "text/html": [
       "<div>\n",
       "<style scoped>\n",
       "    .dataframe tbody tr th:only-of-type {\n",
       "        vertical-align: middle;\n",
       "    }\n",
       "\n",
       "    .dataframe tbody tr th {\n",
       "        vertical-align: top;\n",
       "    }\n",
       "\n",
       "    .dataframe thead th {\n",
       "        text-align: right;\n",
       "    }\n",
       "</style>\n",
       "<table border=\"1\" class=\"dataframe\">\n",
       "  <thead>\n",
       "    <tr style=\"text-align: right;\">\n",
       "      <th></th>\n",
       "      <th>booking_id</th>\n",
       "      <th>customer_id</th>\n",
       "      <th>source</th>\n",
       "      <th>status</th>\n",
       "      <th>checkin</th>\n",
       "      <th>checkout</th>\n",
       "      <th>rooms</th>\n",
       "      <th>hotel_id</th>\n",
       "      <th>amount</th>\n",
       "      <th>discount</th>\n",
       "      <th>date</th>\n",
       "    </tr>\n",
       "  </thead>\n",
       "  <tbody>\n",
       "    <tr>\n",
       "      <th>0</th>\n",
       "      <td>1</td>\n",
       "      <td>189314</td>\n",
       "      <td>4</td>\n",
       "      <td>3</td>\n",
       "      <td>02-04-2017</td>\n",
       "      <td>02-05-2017</td>\n",
       "      <td>1</td>\n",
       "      <td>252</td>\n",
       "      <td>3160</td>\n",
       "      <td>669.0</td>\n",
       "      <td>1/31/2017</td>\n",
       "    </tr>\n",
       "    <tr>\n",
       "      <th>1</th>\n",
       "      <td>2</td>\n",
       "      <td>46268</td>\n",
       "      <td>4</td>\n",
       "      <td>3</td>\n",
       "      <td>1/27/2017</td>\n",
       "      <td>1/28/2017</td>\n",
       "      <td>1</td>\n",
       "      <td>252</td>\n",
       "      <td>1893</td>\n",
       "      <td>481.0</td>\n",
       "      <td>1/27/2017</td>\n",
       "    </tr>\n",
       "    <tr>\n",
       "      <th>2</th>\n",
       "      <td>3</td>\n",
       "      <td>55271</td>\n",
       "      <td>3</td>\n",
       "      <td>2</td>\n",
       "      <td>1/25/2017</td>\n",
       "      <td>1/26/2017</td>\n",
       "      <td>1</td>\n",
       "      <td>252</td>\n",
       "      <td>2188</td>\n",
       "      <td>463.0</td>\n",
       "      <td>1/25/2017</td>\n",
       "    </tr>\n",
       "    <tr>\n",
       "      <th>3</th>\n",
       "      <td>4</td>\n",
       "      <td>170766</td>\n",
       "      <td>4</td>\n",
       "      <td>3</td>\n",
       "      <td>1/26/2017</td>\n",
       "      <td>1/27/2017</td>\n",
       "      <td>1</td>\n",
       "      <td>252</td>\n",
       "      <td>3054</td>\n",
       "      <td>646.0</td>\n",
       "      <td>1/26/2017</td>\n",
       "    </tr>\n",
       "    <tr>\n",
       "      <th>4</th>\n",
       "      <td>5</td>\n",
       "      <td>170766</td>\n",
       "      <td>4</td>\n",
       "      <td>3</td>\n",
       "      <td>1/26/2017</td>\n",
       "      <td>1/28/2017</td>\n",
       "      <td>1</td>\n",
       "      <td>252</td>\n",
       "      <td>6107</td>\n",
       "      <td>1293.0</td>\n",
       "      <td>1/25/2017</td>\n",
       "    </tr>\n",
       "  </tbody>\n",
       "</table>\n",
       "</div>"
      ],
      "text/plain": [
       "   booking_id  customer_id  source  status     checkin    checkout  rooms  \\\n",
       "0           1       189314       4       3  02-04-2017  02-05-2017      1   \n",
       "1           2        46268       4       3   1/27/2017   1/28/2017      1   \n",
       "2           3        55271       3       2   1/25/2017   1/26/2017      1   \n",
       "3           4       170766       4       3   1/26/2017   1/27/2017      1   \n",
       "4           5       170766       4       3   1/26/2017   1/28/2017      1   \n",
       "\n",
       "   hotel_id  amount  discount       date  \n",
       "0       252    3160     669.0  1/31/2017  \n",
       "1       252    1893     481.0  1/27/2017  \n",
       "2       252    2188     463.0  1/25/2017  \n",
       "3       252    3054     646.0  1/26/2017  \n",
       "4       252    6107    1293.0  1/25/2017  "
      ]
     },
     "execution_count": 110,
     "metadata": {},
     "output_type": "execute_result"
    }
   ],
   "source": [
    "Table_a.head()"
   ]
  },
  {
   "cell_type": "code",
   "execution_count": 113,
   "metadata": {},
   "outputs": [],
   "source": [
    "conn = sqlite3.connect(\"valiance.db\")\n",
    "Table_a.to_sql(name=\"TableA\", con=conn)\n",
    "Table_b.to_sql(name=\"TableB\", con=conn)\n",
    "Table_c.to_sql(name=\"TableC\", con=conn)\n",
    "Table_d.to_sql(name=\"TableD\", con=conn)"
   ]
  },
  {
   "cell_type": "code",
   "execution_count": 176,
   "metadata": {},
   "outputs": [
    {
     "data": {
      "text/html": [
       "<div>\n",
       "<style scoped>\n",
       "    .dataframe tbody tr th:only-of-type {\n",
       "        vertical-align: middle;\n",
       "    }\n",
       "\n",
       "    .dataframe tbody tr th {\n",
       "        vertical-align: top;\n",
       "    }\n",
       "\n",
       "    .dataframe thead th {\n",
       "        text-align: right;\n",
       "    }\n",
       "</style>\n",
       "<table border=\"1\" class=\"dataframe\">\n",
       "  <thead>\n",
       "    <tr style=\"text-align: right;\">\n",
       "      <th></th>\n",
       "      <th>customer_id</th>\n",
       "      <th>num_booking_jan</th>\n",
       "      <th>total_amount_spent_jan</th>\n",
       "      <th>total_room_nights_jan</th>\n",
       "    </tr>\n",
       "  </thead>\n",
       "  <tbody>\n",
       "    <tr>\n",
       "      <th>0</th>\n",
       "      <td>220</td>\n",
       "      <td>2</td>\n",
       "      <td>2714.0</td>\n",
       "      <td>1</td>\n",
       "    </tr>\n",
       "    <tr>\n",
       "      <th>1</th>\n",
       "      <td>765</td>\n",
       "      <td>1</td>\n",
       "      <td>1371.0</td>\n",
       "      <td>1</td>\n",
       "    </tr>\n",
       "    <tr>\n",
       "      <th>2</th>\n",
       "      <td>1864</td>\n",
       "      <td>2</td>\n",
       "      <td>3381.0</td>\n",
       "      <td>2</td>\n",
       "    </tr>\n",
       "    <tr>\n",
       "      <th>3</th>\n",
       "      <td>2162</td>\n",
       "      <td>1</td>\n",
       "      <td>3103.0</td>\n",
       "      <td>1</td>\n",
       "    </tr>\n",
       "    <tr>\n",
       "      <th>4</th>\n",
       "      <td>2202</td>\n",
       "      <td>2</td>\n",
       "      <td>15918.0</td>\n",
       "      <td>2</td>\n",
       "    </tr>\n",
       "  </tbody>\n",
       "</table>\n",
       "</div>"
      ],
      "text/plain": [
       "   customer_id  num_booking_jan  total_amount_spent_jan  total_room_nights_jan\n",
       "0          220                2                  2714.0                      1\n",
       "1          765                1                  1371.0                      1\n",
       "2         1864                2                  3381.0                      2\n",
       "3         2162                1                  3103.0                      1\n",
       "4         2202                2                 15918.0                      2"
      ]
     },
     "execution_count": 176,
     "metadata": {},
     "output_type": "execute_result"
    }
   ],
   "source": [
    "# Answer 1 : Month Jan\n",
    "Aa = pd.read_sql(\"select customer_id, count(customer_id) as num_booking_jan, sum(amount-discount) as total_amount_spent_jan from TableA group by customer_id\", conn)\n",
    "Ab = pd.read_sql(\"select customer_id, rooms*count(status) as total_room_nights_jan from TableA where status=2 group by customer_id\", conn)\n",
    "Month_A = pd.merge(Aa,Ab[['customer_id','total_room_nights_jan']], on='customer_id')\n",
    "Month_A.head()\n"
   ]
  },
  {
   "cell_type": "code",
   "execution_count": 178,
   "metadata": {
    "scrolled": true
   },
   "outputs": [
    {
     "data": {
      "text/html": [
       "<div>\n",
       "<style scoped>\n",
       "    .dataframe tbody tr th:only-of-type {\n",
       "        vertical-align: middle;\n",
       "    }\n",
       "\n",
       "    .dataframe tbody tr th {\n",
       "        vertical-align: top;\n",
       "    }\n",
       "\n",
       "    .dataframe thead th {\n",
       "        text-align: right;\n",
       "    }\n",
       "</style>\n",
       "<table border=\"1\" class=\"dataframe\">\n",
       "  <thead>\n",
       "    <tr style=\"text-align: right;\">\n",
       "      <th></th>\n",
       "      <th>customer_id</th>\n",
       "      <th>num_booking_feb</th>\n",
       "      <th>total_amount_spent_feb</th>\n",
       "      <th>total_room_nights_feb</th>\n",
       "    </tr>\n",
       "  </thead>\n",
       "  <tbody>\n",
       "    <tr>\n",
       "      <th>0</th>\n",
       "      <td>220</td>\n",
       "      <td>2</td>\n",
       "      <td>2714.0</td>\n",
       "      <td>1</td>\n",
       "    </tr>\n",
       "    <tr>\n",
       "      <th>1</th>\n",
       "      <td>765</td>\n",
       "      <td>1</td>\n",
       "      <td>1371.0</td>\n",
       "      <td>1</td>\n",
       "    </tr>\n",
       "    <tr>\n",
       "      <th>2</th>\n",
       "      <td>1864</td>\n",
       "      <td>2</td>\n",
       "      <td>3381.0</td>\n",
       "      <td>2</td>\n",
       "    </tr>\n",
       "    <tr>\n",
       "      <th>3</th>\n",
       "      <td>2162</td>\n",
       "      <td>1</td>\n",
       "      <td>3103.0</td>\n",
       "      <td>1</td>\n",
       "    </tr>\n",
       "    <tr>\n",
       "      <th>4</th>\n",
       "      <td>2202</td>\n",
       "      <td>2</td>\n",
       "      <td>15918.0</td>\n",
       "      <td>2</td>\n",
       "    </tr>\n",
       "  </tbody>\n",
       "</table>\n",
       "</div>"
      ],
      "text/plain": [
       "   customer_id  num_booking_feb  total_amount_spent_feb  total_room_nights_feb\n",
       "0          220                2                  2714.0                      1\n",
       "1          765                1                  1371.0                      1\n",
       "2         1864                2                  3381.0                      2\n",
       "3         2162                1                  3103.0                      1\n",
       "4         2202                2                 15918.0                      2"
      ]
     },
     "execution_count": 178,
     "metadata": {},
     "output_type": "execute_result"
    }
   ],
   "source": [
    "# Answer 1 : Month Feb\n",
    "Ba = pd.read_sql(\"select customer_id, count(customer_id) as num_booking_feb, sum(amount-discount) as total_amount_spent_feb from TableA group by customer_id\", conn)\n",
    "Bb = pd.read_sql(\"select customer_id, rooms*count(status) as total_room_nights_feb from TableA where status=2 group by customer_id\", conn)\n",
    "Month_B = pd.merge(Ba,Bb[['customer_id','total_room_nights_feb']], on='customer_id')\n",
    "Month_B.head()\n"
   ]
  },
  {
   "cell_type": "code",
   "execution_count": 179,
   "metadata": {},
   "outputs": [
    {
     "data": {
      "text/html": [
       "<div>\n",
       "<style scoped>\n",
       "    .dataframe tbody tr th:only-of-type {\n",
       "        vertical-align: middle;\n",
       "    }\n",
       "\n",
       "    .dataframe tbody tr th {\n",
       "        vertical-align: top;\n",
       "    }\n",
       "\n",
       "    .dataframe thead th {\n",
       "        text-align: right;\n",
       "    }\n",
       "</style>\n",
       "<table border=\"1\" class=\"dataframe\">\n",
       "  <thead>\n",
       "    <tr style=\"text-align: right;\">\n",
       "      <th></th>\n",
       "      <th>customer_id</th>\n",
       "      <th>num_booking_mar</th>\n",
       "      <th>total_amount_spent_mar</th>\n",
       "      <th>total_room_nights_mar</th>\n",
       "    </tr>\n",
       "  </thead>\n",
       "  <tbody>\n",
       "    <tr>\n",
       "      <th>0</th>\n",
       "      <td>220</td>\n",
       "      <td>2</td>\n",
       "      <td>2714.0</td>\n",
       "      <td>1</td>\n",
       "    </tr>\n",
       "    <tr>\n",
       "      <th>1</th>\n",
       "      <td>765</td>\n",
       "      <td>1</td>\n",
       "      <td>1371.0</td>\n",
       "      <td>1</td>\n",
       "    </tr>\n",
       "    <tr>\n",
       "      <th>2</th>\n",
       "      <td>1864</td>\n",
       "      <td>2</td>\n",
       "      <td>3381.0</td>\n",
       "      <td>2</td>\n",
       "    </tr>\n",
       "    <tr>\n",
       "      <th>3</th>\n",
       "      <td>2162</td>\n",
       "      <td>1</td>\n",
       "      <td>3103.0</td>\n",
       "      <td>1</td>\n",
       "    </tr>\n",
       "    <tr>\n",
       "      <th>4</th>\n",
       "      <td>2202</td>\n",
       "      <td>2</td>\n",
       "      <td>15918.0</td>\n",
       "      <td>2</td>\n",
       "    </tr>\n",
       "  </tbody>\n",
       "</table>\n",
       "</div>"
      ],
      "text/plain": [
       "   customer_id  num_booking_mar  total_amount_spent_mar  total_room_nights_mar\n",
       "0          220                2                  2714.0                      1\n",
       "1          765                1                  1371.0                      1\n",
       "2         1864                2                  3381.0                      2\n",
       "3         2162                1                  3103.0                      1\n",
       "4         2202                2                 15918.0                      2"
      ]
     },
     "execution_count": 179,
     "metadata": {},
     "output_type": "execute_result"
    }
   ],
   "source": [
    "# Answer 1 : Month Jan\n",
    "Ca = pd.read_sql(\"select customer_id, count(customer_id) as num_booking_mar, sum(amount-discount) as total_amount_spent_mar from TableA group by customer_id\", conn)\n",
    "Cb = pd.read_sql(\"select customer_id, rooms*count(status) as total_room_nights_mar from TableA where status=2 group by customer_id\", conn)\n",
    "Month_C = pd.merge(Ca,Cb[['customer_id','total_room_nights_mar']], on='customer_id')\n",
    "Month_C.head()\n"
   ]
  },
  {
   "cell_type": "markdown",
   "metadata": {},
   "source": [
    "### Q3. Merge these summarized datasets to create one dataframe such that you can see all these summarized columns for each month side by side. Below is an example of the output:"
   ]
  },
  {
   "cell_type": "code",
   "execution_count": 182,
   "metadata": {},
   "outputs": [
    {
     "data": {
      "text/html": [
       "<div>\n",
       "<style scoped>\n",
       "    .dataframe tbody tr th:only-of-type {\n",
       "        vertical-align: middle;\n",
       "    }\n",
       "\n",
       "    .dataframe tbody tr th {\n",
       "        vertical-align: top;\n",
       "    }\n",
       "\n",
       "    .dataframe thead th {\n",
       "        text-align: right;\n",
       "    }\n",
       "</style>\n",
       "<table border=\"1\" class=\"dataframe\">\n",
       "  <thead>\n",
       "    <tr style=\"text-align: right;\">\n",
       "      <th></th>\n",
       "      <th>customer_id</th>\n",
       "      <th>num_booking_jan</th>\n",
       "      <th>total_amount_spent_jan</th>\n",
       "      <th>total_room_nights_jan</th>\n",
       "      <th>num_booking_feb</th>\n",
       "      <th>total_amount_spent_feb</th>\n",
       "      <th>total_room_nights_feb</th>\n",
       "      <th>num_booking_mar</th>\n",
       "      <th>total_amount_spent_mar</th>\n",
       "      <th>total_room_nights_mar</th>\n",
       "    </tr>\n",
       "  </thead>\n",
       "  <tbody>\n",
       "    <tr>\n",
       "      <th>0</th>\n",
       "      <td>220</td>\n",
       "      <td>2</td>\n",
       "      <td>2714.0</td>\n",
       "      <td>1</td>\n",
       "      <td>2</td>\n",
       "      <td>2714.0</td>\n",
       "      <td>1</td>\n",
       "      <td>2</td>\n",
       "      <td>2714.0</td>\n",
       "      <td>1</td>\n",
       "    </tr>\n",
       "    <tr>\n",
       "      <th>1</th>\n",
       "      <td>765</td>\n",
       "      <td>1</td>\n",
       "      <td>1371.0</td>\n",
       "      <td>1</td>\n",
       "      <td>1</td>\n",
       "      <td>1371.0</td>\n",
       "      <td>1</td>\n",
       "      <td>1</td>\n",
       "      <td>1371.0</td>\n",
       "      <td>1</td>\n",
       "    </tr>\n",
       "    <tr>\n",
       "      <th>2</th>\n",
       "      <td>1864</td>\n",
       "      <td>2</td>\n",
       "      <td>3381.0</td>\n",
       "      <td>2</td>\n",
       "      <td>2</td>\n",
       "      <td>3381.0</td>\n",
       "      <td>2</td>\n",
       "      <td>2</td>\n",
       "      <td>3381.0</td>\n",
       "      <td>2</td>\n",
       "    </tr>\n",
       "    <tr>\n",
       "      <th>3</th>\n",
       "      <td>2162</td>\n",
       "      <td>1</td>\n",
       "      <td>3103.0</td>\n",
       "      <td>1</td>\n",
       "      <td>1</td>\n",
       "      <td>3103.0</td>\n",
       "      <td>1</td>\n",
       "      <td>1</td>\n",
       "      <td>3103.0</td>\n",
       "      <td>1</td>\n",
       "    </tr>\n",
       "    <tr>\n",
       "      <th>4</th>\n",
       "      <td>2202</td>\n",
       "      <td>2</td>\n",
       "      <td>15918.0</td>\n",
       "      <td>2</td>\n",
       "      <td>2</td>\n",
       "      <td>15918.0</td>\n",
       "      <td>2</td>\n",
       "      <td>2</td>\n",
       "      <td>15918.0</td>\n",
       "      <td>2</td>\n",
       "    </tr>\n",
       "  </tbody>\n",
       "</table>\n",
       "</div>"
      ],
      "text/plain": [
       "   customer_id  num_booking_jan  total_amount_spent_jan  \\\n",
       "0          220                2                  2714.0   \n",
       "1          765                1                  1371.0   \n",
       "2         1864                2                  3381.0   \n",
       "3         2162                1                  3103.0   \n",
       "4         2202                2                 15918.0   \n",
       "\n",
       "   total_room_nights_jan  num_booking_feb  total_amount_spent_feb  \\\n",
       "0                      1                2                  2714.0   \n",
       "1                      1                1                  1371.0   \n",
       "2                      2                2                  3381.0   \n",
       "3                      1                1                  3103.0   \n",
       "4                      2                2                 15918.0   \n",
       "\n",
       "   total_room_nights_feb  num_booking_mar  total_amount_spent_mar  \\\n",
       "0                      1                2                  2714.0   \n",
       "1                      1                1                  1371.0   \n",
       "2                      2                2                  3381.0   \n",
       "3                      1                1                  3103.0   \n",
       "4                      2                2                 15918.0   \n",
       "\n",
       "   total_room_nights_mar  \n",
       "0                      1  \n",
       "1                      1  \n",
       "2                      2  \n",
       "3                      1  \n",
       "4                      2  "
      ]
     },
     "execution_count": 182,
     "metadata": {},
     "output_type": "execute_result"
    }
   ],
   "source": [
    "Sum1 = pd.merge(Month_A, Month_B[['customer_id','num_booking_feb','total_amount_spent_feb','total_room_nights_feb']], on='customer_id')\n",
    "Summmary = pd.merge(Sum1, Month_C[['customer_id','num_booking_mar', 'total_amount_spent_mar','total_room_nights_mar']], on='customer_id')\n",
    "Summmary.head()"
   ]
  },
  {
   "cell_type": "markdown",
   "metadata": {},
   "source": [
    "### Calculate Repeat Rate for the month February (If X customers had made the bookings in the month of Jan 2017 (TableA), how many of them made them in Feb 2017 too. (TableB) too i.e Y) - (Y/X*100)"
   ]
  },
  {
   "cell_type": "code",
   "execution_count": 205,
   "metadata": {},
   "outputs": [],
   "source": [
    "X = pd.read_sql(\"Select count(distinct(customer_id)) as X from TableA\", conn)\n",
    "Y = pd.read_sql(\"Select count(distinct(TableB.customer_id)) as Y from TableB LEFT JOIN TableA ON TableA.customer_id = TableB.customer_id\", conn)\n",
    "repeat_rate = Y['Y'][0]/X['X'][0]*100\n",
    "\n"
   ]
  },
  {
   "cell_type": "code",
   "execution_count": 206,
   "metadata": {
    "scrolled": true
   },
   "outputs": [
    {
     "data": {
      "text/plain": [
       "97.2183588317107"
      ]
     },
     "execution_count": 206,
     "metadata": {},
     "output_type": "execute_result"
    }
   ],
   "source": [
    "repeat_rate"
   ]
  },
  {
   "cell_type": "markdown",
   "metadata": {},
   "source": [
    "### Q5. For each city, give the top 3 revenue earning hotels over this time period. (Not separately for Jan, Feb, Mar)"
   ]
  },
  {
   "cell_type": "code",
   "execution_count": 245,
   "metadata": {
    "scrolled": true
   },
   "outputs": [
    {
     "data": {
      "text/plain": [
       "(1000, 11)"
      ]
     },
     "execution_count": 245,
     "metadata": {},
     "output_type": "execute_result"
    }
   ],
   "source": [
    "Table_a.shape"
   ]
  },
  {
   "cell_type": "markdown",
   "metadata": {},
   "source": [
    "Concatinating all three month data"
   ]
  },
  {
   "cell_type": "code",
   "execution_count": 247,
   "metadata": {},
   "outputs": [],
   "source": [
    "a = pd.concat([Table_a,Table_b,Table_c])"
   ]
  },
  {
   "cell_type": "code",
   "execution_count": 248,
   "metadata": {},
   "outputs": [
    {
     "data": {
      "text/plain": [
       "(2889, 11)"
      ]
     },
     "execution_count": 248,
     "metadata": {},
     "output_type": "execute_result"
    }
   ],
   "source": [
    "a.shape"
   ]
  },
  {
   "cell_type": "code",
   "execution_count": 251,
   "metadata": {},
   "outputs": [],
   "source": [
    "df_A = pd.merge(a, Table_d[['hotel_id','city']], on='hotel_id')\n",
    "df_A.head()\n",
    "df_A = df_A.drop(['booking_id','customer_id','source','status','checkin','checkout','rooms','date'],1)\n",
    "df_A['revenue_earned'] = df_A['amount']-df_A['discount']\n",
    "df_A = df_A.drop(['amount','discount'],1)\n",
    "# Pushing data into database\n",
    "df_A.to_sql(name=\"Three_month\", con=conn)\n"
   ]
  },
  {
   "cell_type": "code",
   "execution_count": 258,
   "metadata": {},
   "outputs": [
    {
     "name": "stdout",
     "output_type": "stream",
     "text": [
      "        city  hotel_id\n",
      "0  Bangalore       106\n",
      "1  Bangalore       409\n",
      "2  Bangalore       597\n",
      "      city  hotel_id\n",
      "0  Chennai       691\n",
      "1  Chennai       978\n",
      "2  Chennai       691\n",
      "    city  hotel_id\n",
      "0  Delhi       309\n",
      "1  Delhi       378\n",
      "2  Delhi       233\n",
      "      city  hotel_id\n",
      "0  Gurgaon         3\n",
      "1  Gurgaon       346\n",
      "2  Gurgaon       346\n",
      "        city  hotel_id\n",
      "0  Hyderabad       979\n",
      "1  Hyderabad       703\n",
      "2  Hyderabad       666\n",
      "     city  hotel_id\n",
      "0  Jaipur       724\n",
      "1  Jaipur       140\n",
      "2  Jaipur       450\n",
      "      city  hotel_id\n",
      "0  Kolkata       956\n",
      "1  Kolkata       926\n",
      "2  Kolkata       306\n",
      "     city  hotel_id\n",
      "0  Mumbai       534\n",
      "1  Mumbai       885\n",
      "2  Mumbai       538\n",
      "    city  hotel_id\n",
      "0  Noida       777\n",
      "1  Noida       261\n",
      "2  Noida       772\n",
      "   city  hotel_id\n",
      "0  Pune       594\n",
      "1  Pune       663\n",
      "2  Pune       411\n"
     ]
    }
   ],
   "source": [
    "distinct_cities = pd.read_sql(\"select distinct(city) from Three_month\",conn)\n",
    "for i in distinct_cities['city']:\n",
    "    print(pd.read_sql(\"select city, hotel_id from Three_month where city='\"+i+\"' order by revenue_earned desc limit 3\", conn))\n",
    "          \n",
    "          \n",
    "          \n",
    "          \n",
    "          \n",
    "          "
   ]
  },
  {
   "cell_type": "markdown",
   "metadata": {},
   "source": [
    "# Done"
   ]
  },
  {
   "cell_type": "code",
   "execution_count": null,
   "metadata": {},
   "outputs": [],
   "source": []
  }
 ],
 "metadata": {
  "kernelspec": {
   "display_name": "Python 3",
   "language": "python",
   "name": "python3"
  },
  "language_info": {
   "codemirror_mode": {
    "name": "ipython",
    "version": 3
   },
   "file_extension": ".py",
   "mimetype": "text/x-python",
   "name": "python",
   "nbconvert_exporter": "python",
   "pygments_lexer": "ipython3",
   "version": "3.6.8"
  }
 },
 "nbformat": 4,
 "nbformat_minor": 2
}
